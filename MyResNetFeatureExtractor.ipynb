{
  "cells": [
    {
      "cell_type": "markdown",
      "metadata": {
        "id": "view-in-github",
        "colab_type": "text"
      },
      "source": [
        "<a href=\"https://colab.research.google.com/github/andrearakel/Mastersverkefni/blob/main/MyResNetFeatureExtractor.ipynb\" target=\"_parent\"><img src=\"https://colab.research.google.com/assets/colab-badge.svg\" alt=\"Open In Colab\"/></a>"
      ]
    },
    {
      "cell_type": "code",
      "execution_count": null,
      "metadata": {
        "id": "E5VxPNGNkbig"
      },
      "outputs": [],
      "source": [
        "from collections import namedtuple\n",
        "import csv\n",
        "import sys\n",
        "import tensorflow as tf\n",
        "from tensorflow.keras.applications.resnet50 import ResNet50, preprocess_input\n",
        "from tensorflow.keras import backend as K\n",
        "from tensorflow.keras.layers import Dense, GlobalAveragePooling2D, Dropout, Flatten\n",
        "from tensorflow.keras.models import Model, Sequential\n",
        "from tensorflow.keras.preprocessing.image import ImageDataGenerator\n",
        "from tensorflow.keras.utils import to_categorical\n",
        "import matplotlib.pyplot as plt\n",
        "import matplotlib.patches as patches\n",
        "import numpy as np\n",
        "import os\n",
        "import itertools\n",
        "# import the necessary packages\n",
        "from collections import namedtuple\n",
        "import numpy as np\n",
        "import cv2\n",
        "from PIL import Image, ImageOps\n",
        "# importing XML parsing library for parsing the data\n",
        "import xml.etree.ElementTree as ET\n",
        "from pathlib import Path\n",
        "import pandas as pd\n",
        "from keras_preprocessing.image import ImageDataGenerator\n",
        "from collections import Counter\n",
        "import seaborn as sns\n",
        "from keras import backend as K\n",
        "from keras.callbacks import Callback\n",
        "from keras.layers import Dense\n",
        "from keras.models import Model\n",
        "from sklearn.metrics import(f1_score, precision_score, recall_score)\n",
        "from sklearn.metrics import multilabel_confusion_matrix\n",
        "\n",
        "import numpy as np\n",
        "from sklearn.linear_model import LogisticRegression\n",
        "from torch.utils.data import DataLoader, Dataset\n",
        "from torchvision.datasets import ImageFolder\n",
        "from tqdm import tqdm\n",
        "\n",
        "import torch\n",
        "\n",
        "import torchvision.transforms as transforms\n",
        "import cv2\n",
        "from sklearn.model_selection import train_test_split\n",
        "\n",
        "# import the necessary packages\n",
        "from sklearn.preprocessing import LabelEncoder\n",
        "from tensorflow.keras.preprocessing.image import img_to_array\n",
        "from tensorflow.keras.preprocessing.image import load_img\n",
        "from imutils import paths\n",
        "import numpy as np\n",
        "import pickle\n",
        "import random\n",
        "import os"
      ]
    },
    {
      "cell_type": "code",
      "execution_count": null,
      "metadata": {
        "colab": {
          "base_uri": "https://localhost:8080/"
        },
        "id": "OkPm4qtukvoV",
        "outputId": "4a1dc8ab-a221-481a-e8ce-1af2af285a90"
      },
      "outputs": [
        {
          "name": "stdout",
          "output_type": "stream",
          "text": [
            "Mounted at /content/drive\n"
          ]
        }
      ],
      "source": [
        "from google.colab import drive\n",
        "drive.mount('/content/drive')"
      ]
    },
    {
      "cell_type": "code",
      "execution_count": null,
      "metadata": {
        "id": "k__kq2A8k6Uy"
      },
      "outputs": [],
      "source": [
        "annotations_dir = Path('/content/drive/MyDrive/Data/B1/labels/').expanduser()\n",
        "images_dir = Path('/content/drive/MyDrive/Data/Small data/PNG myndir/').expanduser()"
      ]
    },
    {
      "cell_type": "code",
      "execution_count": null,
      "metadata": {
        "id": "fAMz1L4-ZFwJ"
      },
      "outputs": [],
      "source": [
        ""
      ]
    },
    {
      "cell_type": "code",
      "execution_count": null,
      "metadata": {
        "colab": {
          "base_uri": "https://localhost:8080/"
        },
        "id": "Ef3RaYt_mS5u",
        "outputId": "9f040e30-9511-4649-d06d-a20f630507bc"
      },
      "outputs": [
        {
          "name": "stdout",
          "output_type": "stream",
          "text": [
            "/content/drive/MyDrive/Data/Small data\n"
          ]
        }
      ],
      "source": [
        "%cd '/content/drive/MyDrive/Data/Small data/'\n",
        "\n",
        "IMG_DIR = 'PNG myndir/'"
      ]
    },
    {
      "cell_type": "code",
      "execution_count": null,
      "metadata": {
        "id": "TYov16iSY8K_"
      },
      "outputs": [],
      "source": [
        "import torch\n",
        "\n",
        "BATCH_SIZE = 4 # increase / decrease according to GPU memeory\n",
        "RESIZE_TO = 1024 # resize the image for training and transforms\n",
        "NUM_EPOCHS = 100 # number of epochs to train for\n",
        "DEVICE = torch.device('cuda') if torch.cuda.is_available() else torch.device('cpu')\n",
        "# training images and XML files directory\n",
        "TRAIN_DIR = IMG_DIR\n",
        "VAL_DIR = IMG_DIR"
      ]
    },
    {
      "cell_type": "code",
      "execution_count": null,
      "metadata": {
        "id": "bY1gTgs2lIij"
      },
      "outputs": [],
      "source": [
        "#Get labels\n",
        "def build_labels(path_to_xml_annotation, unique_labels, annotation_file):\n",
        "  root = ET.XML(path_to_xml_annotation)\n",
        "  labels = set() if unique_labels else []\n",
        "  labels_add = labels.add if unique_labels else labels.append\n",
        "\n",
        "  for i, child in enumerate(root):\n",
        "        if child.tag == 'object':\n",
        "            for subchild in child:\n",
        "                if subchild.tag == 'name':\n",
        "                    labels_add(subchild.text)\n",
        "      \n",
        "\n",
        "  return annotation_file.stem[:-2], list(labels)\n",
        "\n",
        "\n",
        "def get_labels(annotations_dir, unique_labels=True):\n",
        "    for annotation_file in annotations_dir.iterdir():\n",
        "        with open(annotation_file) as f:\n",
        "            yield build_labels(f.read(), unique_labels, annotation_file)"
      ]
    },
    {
      "cell_type": "code",
      "execution_count": null,
      "metadata": {
        "colab": {
          "base_uri": "https://localhost:8080/",
          "height": 224
        },
        "id": "4sv2ZJ5OlL8T",
        "outputId": "4d0f0412-8070-429e-e372-0433c54643b8"
      },
      "outputs": [
        {
          "name": "stdout",
          "output_type": "stream",
          "text": [
            "Found 270 images\n"
          ]
        },
        {
          "data": {
            "text/html": [
              "\n",
              "  <div id=\"df-0f1b1bb8-d340-4ce3-935d-f67cb38e0587\">\n",
              "    <div class=\"colab-df-container\">\n",
              "      <div>\n",
              "<style scoped>\n",
              "    .dataframe tbody tr th:only-of-type {\n",
              "        vertical-align: middle;\n",
              "    }\n",
              "\n",
              "    .dataframe tbody tr th {\n",
              "        vertical-align: top;\n",
              "    }\n",
              "\n",
              "    .dataframe thead th {\n",
              "        text-align: right;\n",
              "    }\n",
              "</style>\n",
              "<table border=\"1\" class=\"dataframe\">\n",
              "  <thead>\n",
              "    <tr style=\"text-align: right;\">\n",
              "      <th></th>\n",
              "      <th>filename</th>\n",
              "      <th>labels</th>\n",
              "    </tr>\n",
              "  </thead>\n",
              "  <tbody>\n",
              "    <tr>\n",
              "      <th>24</th>\n",
              "      <td>29_2021-10-04_12.14.36.000_out_</td>\n",
              "      <td>[worm]</td>\n",
              "    </tr>\n",
              "    <tr>\n",
              "      <th>208</th>\n",
              "      <td>215_2021-10-04_14.08.45.000_out_</td>\n",
              "      <td>[worm]</td>\n",
              "    </tr>\n",
              "    <tr>\n",
              "      <th>227</th>\n",
              "      <td>234_2021-10-04_14.16.57.000_out_</td>\n",
              "      <td>[worm]</td>\n",
              "    </tr>\n",
              "    <tr>\n",
              "      <th>8</th>\n",
              "      <td>18_I0018_out_</td>\n",
              "      <td>[worm]</td>\n",
              "    </tr>\n",
              "    <tr>\n",
              "      <th>213</th>\n",
              "      <td>220_2021-10-04_14.11.11.000_out_</td>\n",
              "      <td>[worm]</td>\n",
              "    </tr>\n",
              "  </tbody>\n",
              "</table>\n",
              "</div>\n",
              "      <button class=\"colab-df-convert\" onclick=\"convertToInteractive('df-0f1b1bb8-d340-4ce3-935d-f67cb38e0587')\"\n",
              "              title=\"Convert this dataframe to an interactive table.\"\n",
              "              style=\"display:none;\">\n",
              "        \n",
              "  <svg xmlns=\"http://www.w3.org/2000/svg\" height=\"24px\"viewBox=\"0 0 24 24\"\n",
              "       width=\"24px\">\n",
              "    <path d=\"M0 0h24v24H0V0z\" fill=\"none\"/>\n",
              "    <path d=\"M18.56 5.44l.94 2.06.94-2.06 2.06-.94-2.06-.94-.94-2.06-.94 2.06-2.06.94zm-11 1L8.5 8.5l.94-2.06 2.06-.94-2.06-.94L8.5 2.5l-.94 2.06-2.06.94zm10 10l.94 2.06.94-2.06 2.06-.94-2.06-.94-.94-2.06-.94 2.06-2.06.94z\"/><path d=\"M17.41 7.96l-1.37-1.37c-.4-.4-.92-.59-1.43-.59-.52 0-1.04.2-1.43.59L10.3 9.45l-7.72 7.72c-.78.78-.78 2.05 0 2.83L4 21.41c.39.39.9.59 1.41.59.51 0 1.02-.2 1.41-.59l7.78-7.78 2.81-2.81c.8-.78.8-2.07 0-2.86zM5.41 20L4 18.59l7.72-7.72 1.47 1.35L5.41 20z\"/>\n",
              "  </svg>\n",
              "      </button>\n",
              "      \n",
              "  <style>\n",
              "    .colab-df-container {\n",
              "      display:flex;\n",
              "      flex-wrap:wrap;\n",
              "      gap: 12px;\n",
              "    }\n",
              "\n",
              "    .colab-df-convert {\n",
              "      background-color: #E8F0FE;\n",
              "      border: none;\n",
              "      border-radius: 50%;\n",
              "      cursor: pointer;\n",
              "      display: none;\n",
              "      fill: #1967D2;\n",
              "      height: 32px;\n",
              "      padding: 0 0 0 0;\n",
              "      width: 32px;\n",
              "    }\n",
              "\n",
              "    .colab-df-convert:hover {\n",
              "      background-color: #E2EBFA;\n",
              "      box-shadow: 0px 1px 2px rgba(60, 64, 67, 0.3), 0px 1px 3px 1px rgba(60, 64, 67, 0.15);\n",
              "      fill: #174EA6;\n",
              "    }\n",
              "\n",
              "    [theme=dark] .colab-df-convert {\n",
              "      background-color: #3B4455;\n",
              "      fill: #D2E3FC;\n",
              "    }\n",
              "\n",
              "    [theme=dark] .colab-df-convert:hover {\n",
              "      background-color: #434B5C;\n",
              "      box-shadow: 0px 1px 3px 1px rgba(0, 0, 0, 0.15);\n",
              "      filter: drop-shadow(0px 1px 2px rgba(0, 0, 0, 0.3));\n",
              "      fill: #FFFFFF;\n",
              "    }\n",
              "  </style>\n",
              "\n",
              "      <script>\n",
              "        const buttonEl =\n",
              "          document.querySelector('#df-0f1b1bb8-d340-4ce3-935d-f67cb38e0587 button.colab-df-convert');\n",
              "        buttonEl.style.display =\n",
              "          google.colab.kernel.accessAllowed ? 'block' : 'none';\n",
              "\n",
              "        async function convertToInteractive(key) {\n",
              "          const element = document.querySelector('#df-0f1b1bb8-d340-4ce3-935d-f67cb38e0587');\n",
              "          const dataTable =\n",
              "            await google.colab.kernel.invokeFunction('convertToInteractive',\n",
              "                                                     [key], {});\n",
              "          if (!dataTable) return;\n",
              "\n",
              "          const docLinkHtml = 'Like what you see? Visit the ' +\n",
              "            '<a target=\"_blank\" href=https://colab.research.google.com/notebooks/data_table.ipynb>data table notebook</a>'\n",
              "            + ' to learn more about interactive tables.';\n",
              "          element.innerHTML = '';\n",
              "          dataTable['output_type'] = 'display_data';\n",
              "          await google.colab.output.renderOutput(dataTable, element);\n",
              "          const docLink = document.createElement('div');\n",
              "          docLink.innerHTML = docLinkHtml;\n",
              "          element.appendChild(docLink);\n",
              "        }\n",
              "      </script>\n",
              "    </div>\n",
              "  </div>\n",
              "  "
            ],
            "text/plain": [
              "                             filename  labels\n",
              "24    29_2021-10-04_12.14.36.000_out_  [worm]\n",
              "208  215_2021-10-04_14.08.45.000_out_  [worm]\n",
              "227  234_2021-10-04_14.16.57.000_out_  [worm]\n",
              "8                       18_I0018_out_  [worm]\n",
              "213  220_2021-10-04_14.11.11.000_out_  [worm]"
            ]
          },
          "execution_count": 6,
          "metadata": {},
          "output_type": "execute_result"
        }
      ],
      "source": [
        "img_metadata = pd.DataFrame(get_labels(annotations_dir), columns=['filename', 'labels'])\n",
        "print(f'Found {len(img_metadata)} images')\n",
        "img_metadata.sample(5)"
      ]
    },
    {
      "cell_type": "code",
      "execution_count": null,
      "metadata": {
        "id": "3M9eiXKnl_vb"
      },
      "outputs": [],
      "source": [
        "train_set,test_set = train_test_split(img_metadata,test_size=0.2, random_state=42)"
      ]
    },
    {
      "cell_type": "code",
      "execution_count": null,
      "metadata": {
        "id": "LDvMbEbgmBhF"
      },
      "outputs": [],
      "source": [
        "class ImageDataset(Dataset):\n",
        "    def __init__(self, df):\n",
        "        self.images = df[\"filename\"].tolist()\n",
        "        self.caption = df[\"labels\"].tolist()\n",
        "\n",
        "    def __len__(self):\n",
        "        return len(self.caption)\n",
        "\n",
        "    def __getitem__(self, idx):\n",
        "  \n",
        "        image = load_img((str(images_dir) + '/' + self.images[idx] + '07.png'), target_size=(224,224))\n",
        "        image = img_to_array(image)\n",
        "        image = np.expand_dims(image, axis=0)\n",
        "        image = np.array(image, dtype='float64')\n",
        "        image = preprocess_input(image)\n",
        "        \n",
        "        caption = str(self.caption[idx])\n",
        "        if caption == \"['worm']\":\n",
        "         caption = 1\n",
        "        else:\n",
        "         caption = 0\n",
        "\n",
        "        return image,caption\n",
        "    "
      ]
    },
    {
      "cell_type": "code",
      "execution_count": null,
      "metadata": {
        "id": "i0ccTmmem9xH"
      },
      "outputs": [],
      "source": [
        "train_dataset_B1 = ImageDataset(train_set)\n",
        "test_dataset_B1 = ImageDataset(test_set)"
      ]
    },
    {
      "cell_type": "code",
      "execution_count": null,
      "metadata": {
        "id": "c5d-P_R3nGLP"
      },
      "outputs": [],
      "source": [
        "train_dataset_B2 = ImageDataset(train_set)\n",
        "test_dataset_B2 = ImageDataset(test_set)"
      ]
    },
    {
      "cell_type": "code",
      "execution_count": null,
      "metadata": {
        "id": "4S7g9UBQnNot"
      },
      "outputs": [],
      "source": [
        "train_dataset_B3 = ImageDataset(train_set)\n",
        "test_dataset_B3 = ImageDataset(test_set)"
      ]
    },
    {
      "cell_type": "code",
      "execution_count": null,
      "metadata": {
        "id": "CtaOK7q0nPiB"
      },
      "outputs": [],
      "source": [
        "train_dataset_B4 = ImageDataset(train_set)\n",
        "test_dataset_B4 = ImageDataset(test_set)"
      ]
    },
    {
      "cell_type": "code",
      "execution_count": null,
      "metadata": {
        "id": "jCofvvb9nR9Z"
      },
      "outputs": [],
      "source": [
        "train_dataset_B5 = ImageDataset(train_set)\n",
        "test_dataset_B5 = ImageDataset(test_set)"
      ]
    },
    {
      "cell_type": "code",
      "execution_count": null,
      "metadata": {
        "id": "4HLprpj8nTr3"
      },
      "outputs": [],
      "source": [
        "train_dataset_B6 = ImageDataset(train_set)\n",
        "test_dataset_B6 = ImageDataset(test_set)"
      ]
    },
    {
      "cell_type": "code",
      "execution_count": null,
      "metadata": {
        "id": "vDbkSdGYnVSs"
      },
      "outputs": [],
      "source": [
        "train_dataset_B7 = ImageDataset(train_set)\n",
        "test_dataset_B7 = ImageDataset(test_set)"
      ]
    },
    {
      "cell_type": "code",
      "execution_count": null,
      "metadata": {
        "colab": {
          "base_uri": "https://localhost:8080/"
        },
        "id": "p-p8CViEp6W7",
        "outputId": "6dcbda31-20f3-4b18-a74e-a0421719fa5c"
      },
      "outputs": [
        {
          "name": "stdout",
          "output_type": "stream",
          "text": [
            "Downloading data from https://storage.googleapis.com/tensorflow/keras-applications/resnet/resnet50_weights_tf_dim_ordering_tf_kernels_notop.h5\n",
            "94773248/94765736 [==============================] - 2s 0us/step\n",
            "94781440/94765736 [==============================] - 2s 0us/step\n"
          ]
        }
      ],
      "source": [
        "model = ResNet50(weights=\"imagenet\", include_top=False)\n"
      ]
    },
    {
      "cell_type": "code",
      "execution_count": null,
      "metadata": {
        "id": "UqhT1mNSCWwh"
      },
      "outputs": [],
      "source": [
        "def collate_fn(batch):\n",
        "    \"\"\"\n",
        "    To handle the data loading as different images may have different number \n",
        "    of objects and to handle varying size tensors as well.\n",
        "    \"\"\"\n",
        "    return tuple(zip(*batch))"
      ]
    },
    {
      "cell_type": "code",
      "execution_count": null,
      "metadata": {
        "id": "MCmN8w8MqCtm"
      },
      "outputs": [],
      "source": [
        "def get_features(dataset):\n",
        "  all_features = []\n",
        "  all_labels = []\n",
        "\n",
        "  with torch.no_grad():\n",
        "    for images, labels in tqdm(DataLoader(dataset, collate_fn=collate_fn)):\n",
        "      features = model.predict(images)\n",
        "      features = features.flatten()\n",
        "      features = np.array(features, dtype=\"float\")\n",
        "      all_features.append(features)\n",
        "      all_labels.append(labels)\n",
        "\n",
        "  return all_features, all_labels\n"
      ]
    },
    {
      "cell_type": "code",
      "execution_count": null,
      "metadata": {
        "colab": {
          "background_save": true,
          "base_uri": "https://localhost:8080/"
        },
        "id": "k-4P4HRUrdIF",
        "outputId": "19f52992-6c8b-45eb-fceb-906d727efee1"
      },
      "outputs": [
        {
          "name": "stderr",
          "output_type": "stream",
          "text": [
            "100%|██████████| 216/216 [05:47<00:00,  1.61s/it]\n",
            "100%|██████████| 54/54 [01:22<00:00,  1.52s/it]\n"
          ]
        }
      ],
      "source": [
        "train_features_B1, train_labels_B1 = get_features(train_dataset_B1)\n",
        "test_features_B1, test_labels_B1 = get_features(test_dataset_B1)"
      ]
    },
    {
      "cell_type": "code",
      "execution_count": null,
      "metadata": {
        "colab": {
          "background_save": true
        },
        "id": "J3ZKur15MIRj",
        "outputId": "2f8cc47c-f7c8-4679-889a-3763354cc9ca"
      },
      "outputs": [
        {
          "name": "stderr",
          "output_type": "stream",
          "text": [
            "100%|██████████| 216/216 [05:52<00:00,  1.63s/it]\n",
            "100%|██████████| 54/54 [01:31<00:00,  1.69s/it]\n"
          ]
        }
      ],
      "source": [
        "train_features_B2, train_labels_B2 = get_features(train_dataset_B2)\n",
        "test_features_B2, test_labels_B2 = get_features(test_dataset_B2)"
      ]
    },
    {
      "cell_type": "code",
      "execution_count": null,
      "metadata": {
        "colab": {
          "background_save": true
        },
        "id": "8gNs6_6FMbDS",
        "outputId": "1de96718-0ce1-4e5e-9616-a8ed7a65f482"
      },
      "outputs": [
        {
          "name": "stderr",
          "output_type": "stream",
          "text": [
            "100%|██████████| 216/216 [05:42<00:00,  1.59s/it]\n",
            "100%|██████████| 54/54 [01:24<00:00,  1.57s/it]\n"
          ]
        }
      ],
      "source": [
        "train_features_B3, train_labels_B3 = get_features(train_dataset_B3)\n",
        "test_features_B3, test_labels_B3 = get_features(test_dataset_B3)"
      ]
    },
    {
      "cell_type": "code",
      "execution_count": null,
      "metadata": {
        "id": "lT5x86ThMjgb"
      },
      "outputs": [],
      "source": [
        "train_features_B4, train_labels_B4 = get_features(train_dataset_B4)\n",
        "test_features_B4, test_labels_B4 = get_features(test_dataset_B4)"
      ]
    },
    {
      "cell_type": "code",
      "execution_count": null,
      "metadata": {
        "id": "eIl_uAG2MoPq"
      },
      "outputs": [],
      "source": [
        "train_features_B5, train_labels_B5 = get_features(train_dataset_B5)\n",
        "test_features_B5, test_labels_B5 = get_features(test_dataset_B5)"
      ]
    },
    {
      "cell_type": "code",
      "execution_count": null,
      "metadata": {
        "id": "iM-iBXilMsBG"
      },
      "outputs": [],
      "source": [
        "train_features_B6, train_labels_B6 = get_features(train_dataset_B6)\n",
        "test_features_B6, test_labels_B6 = get_features(test_dataset_B6)"
      ]
    },
    {
      "cell_type": "code",
      "execution_count": null,
      "metadata": {
        "id": "quLvGsEbMw4K"
      },
      "outputs": [],
      "source": [
        "train_features_B7, train_labels_B7 = get_features(train_dataset_B7)\n",
        "test_features_B7, test_labels_B7 = get_features(test_dataset_B7)"
      ]
    },
    {
      "cell_type": "markdown",
      "metadata": {
        "id": "LDqNhA1iM5O9"
      },
      "source": [
        "Stack feature vectors"
      ]
    },
    {
      "cell_type": "code",
      "execution_count": null,
      "metadata": {
        "id": "69rRmPf_M645"
      },
      "outputs": [],
      "source": [
        "train_features = np.hstack((train_features_B1, train_features_B2, train_features_B3, train_features_B4, train_features_B5, train_features_B6, train_features_B7))\n",
        "test_features = np.hstack((test_features_B1, test_features_B2, test_features_B3, test_features_B4, test_features_B5, test_features_B6, test_features_B7))"
      ]
    },
    {
      "cell_type": "markdown",
      "metadata": {
        "id": "AmQcDv3RM7UU"
      },
      "source": [
        "Mean of feature vectors"
      ]
    },
    {
      "cell_type": "code",
      "execution_count": null,
      "metadata": {
        "id": "1HsgrKC7HQWI"
      },
      "outputs": [],
      "source": [
        "train_features = (np.array(train_features_B1) + np.array(train_features_B2))/2\n",
        "test_features = (np.array(test_features_B1) + np.array(test_features_B2))/2"
      ]
    },
    {
      "cell_type": "markdown",
      "metadata": {
        "id": "7Qm1yiAvTiRA"
      },
      "source": [
        "Logistic regression"
      ]
    },
    {
      "cell_type": "code",
      "execution_count": null,
      "metadata": {
        "colab": {
          "base_uri": "https://localhost:8080/"
        },
        "id": "n-iKkDNBzeH8",
        "outputId": "48fae281-8ddd-4b48-9ef3-b8336ffa5124"
      },
      "outputs": [
        {
          "name": "stdout",
          "output_type": "stream",
          "text": [
            "55.55555555555556\n"
          ]
        }
      ],
      "source": [
        "from sklearn.linear_model import LogisticRegressionCV\n",
        "clf = LogisticRegressionCV(Cs = 50, random_state=0, max_iter=1000).fit(train_features, np.ravel(train_labels_B1))\n",
        "pred_clf = clf.predict(test_features)\n",
        "accuracy = np.mean((np.ravel(test_labels_B1) == pred_clf).astype(float)) * 100.\n",
        "print(accuracy)"
      ]
    },
    {
      "cell_type": "code",
      "execution_count": null,
      "metadata": {
        "colab": {
          "base_uri": "https://localhost:8080/"
        },
        "id": "5BizTF8G2sSa",
        "outputId": "2d682390-3553-4156-d15c-d5ffdcb414bb"
      },
      "outputs": [
        {
          "name": "stdout",
          "output_type": "stream",
          "text": [
            "Accuracy Score : 0.42592592592592593\n",
            "Precision Score : 0.4339622641509434\n",
            "Recall Score : 0.9583333333333334\n",
            "F1 Score : 0.5974025974025975\n"
          ]
        }
      ],
      "source": [
        "# Model Evaluation metrics \n",
        "from sklearn.metrics import accuracy_score,recall_score,precision_score,f1_score\n",
        "print('Accuracy Score : ' + str(accuracy_score(test_labels_B1,predictions)))\n",
        "print('Precision Score : ' + str(precision_score(test_labels_B1,predictions)))\n",
        "print('Recall Score : ' + str(recall_score(test_labels_B1,predictions)))\n",
        "print('F1 Score : ' + str(f1_score(test_labels_B1,predictions)))"
      ]
    },
    {
      "cell_type": "code",
      "execution_count": null,
      "metadata": {
        "colab": {
          "base_uri": "https://localhost:8080/"
        },
        "id": "lJdeyQPt39FL",
        "outputId": "ea84ebea-41c7-40d4-ef2d-a04eefecf3b3"
      },
      "outputs": [
        {
          "name": "stdout",
          "output_type": "stream",
          "text": [
            "Confusion Matrix : \n",
            "[[15 12]\n",
            " [ 1 26]]\n"
          ]
        }
      ],
      "source": [
        "#Logistic Regression Classifier Confusion matrix\n",
        "from sklearn.metrics import confusion_matrix\n",
        "print('Confusion Matrix : \\n' + str(confusion_matrix(test_labels_B1,predictions)))"
      ]
    },
    {
      "cell_type": "code",
      "execution_count": null,
      "metadata": {
        "id": "Rfek2MPv4Bzn"
      },
      "outputs": [],
      "source": [
        ""
      ]
    }
  ],
  "metadata": {
    "accelerator": "GPU",
    "colab": {
      "name": "MyResNetFeatureExtractor",
      "provenance": [],
      "authorship_tag": "ABX9TyMp2BSqOU6rbAaY0RcUjpta",
      "include_colab_link": true
    },
    "kernelspec": {
      "display_name": "Python 3",
      "name": "python3"
    },
    "language_info": {
      "name": "python"
    }
  },
  "nbformat": 4,
  "nbformat_minor": 0
}